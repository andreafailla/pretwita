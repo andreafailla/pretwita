{
 "cells": [
  {
   "cell_type": "markdown",
   "id": "73bd1c09",
   "metadata": {},
   "source": [
    "<span>\n",
    "<img src=\"./logo.png\" width=\"100px\" align=\"right\"/>\n",
    "</span>\n",
    "<span>\n",
    "<b>Author:</b> <a href=\"https://github.com/andreafailla\">Andrea Failla</a><br/>\n",
    "<b>Python version:</b>  >=3<br/>\n",
    "<b>Last update:</b> 08/08/2021<br>\n",
    "<b>Icon::</b> Smashicons\n",
    "</span>"
   ]
  },
  {
   "cell_type": "markdown",
   "id": "667119dd",
   "metadata": {},
   "source": [
    "<a id='top'></a>\n",
    "# PreTwITA\n",
    "<code><b>PreTwITA</b></code> is an open source <b>Pre</b>processor for <b>Tw</b>eets in the <b>ITA</b>lian language written in Python. The purpose of such library is to provide the user with language-specific tools for text cleaning (i.e. the process of preparing raw text for Natural Language Processing). This notebook illustrates the main features of <code>PreTwITA</code>"
   ]
  },
  {
   "cell_type": "markdown",
   "id": "40dbc600",
   "metadata": {},
   "source": [
    "First, let's import the module"
   ]
  },
  {
   "cell_type": "code",
   "execution_count": 1,
   "id": "9de7ba81",
   "metadata": {},
   "outputs": [],
   "source": [
    "from pretwita import PreTwITA as PTW\n",
    "from pretwita.patterns import get_hashtags"
   ]
  },
  {
   "cell_type": "markdown",
   "id": "21c0ead8",
   "metadata": {},
   "source": [
    "Then, we create an instance of a <code>PTW</code> object and feed it with our text"
   ]
  },
  {
   "cell_type": "code",
   "execution_count": 2,
   "id": "828a5c40",
   "metadata": {},
   "outputs": [],
   "source": [
    "tweet = 'Questo è un tweet di prova 😀😀😀 @unipisa'"
   ]
  },
  {
   "cell_type": "code",
   "execution_count": 3,
   "id": "5051b11d",
   "metadata": {},
   "outputs": [
    {
     "data": {
      "text/plain": [
       "<pretwita.pretwita.PreTwITA at 0x7f9a474a6370>"
      ]
     },
     "execution_count": 3,
     "metadata": {},
     "output_type": "execute_result"
    }
   ],
   "source": [
    "ptw = PTW(tweet)\n",
    "ptw"
   ]
  },
  {
   "cell_type": "markdown",
   "id": "875c406f",
   "metadata": {},
   "source": [
    "### Functions ([to top](#top))"
   ]
  },
  {
   "cell_type": "markdown",
   "id": "fbdf5b25",
   "metadata": {},
   "source": [
    "<code>PreTwITA</code> comes with an <code>available_functions()</code> method for quick reference. Its output lists the functions along with their default parameters"
   ]
  },
  {
   "cell_type": "code",
   "execution_count": 4,
   "id": "5d01863c",
   "metadata": {},
   "outputs": [
    {
     "name": "stdout",
     "output_type": "stream",
     "text": [
      "clean(placeholder=False, additional_stopwords=None, keep_dates=False)\n",
      "to_lower()\n",
      "correct_abbreviations()\n",
      "remove_urls(placeholder=False)\n",
      "remove_emojis(placeholder=False)\n",
      "remove_emoticons(placeholder=False)\n",
      "remove_mentions(placeholder=False)\n",
      "remove_hashtags(placeholder=False)\n",
      "remove_reserved_words(placeholder=False)\n",
      "remove_stopwords(additional_stopwords=None)\n",
      "remove_punctuation()\n",
      "remove_numbers(keep_dates=False)\n",
      "remove_multiple_spaces()\n",
      "get_tokens()\n"
     ]
    }
   ],
   "source": [
    "PTW.available_functions()"
   ]
  },
  {
   "cell_type": "markdown",
   "id": "a44980bb",
   "metadata": {},
   "source": [
    "To remove unwanted elements, just call the corresponding method. When <code>placeholder</code> is <code>True</code>, such elements are replaced with dummy tokens instead of being removed"
   ]
  },
  {
   "cell_type": "code",
   "execution_count": 5,
   "id": "b9738ec0",
   "metadata": {},
   "outputs": [
    {
     "name": "stdout",
     "output_type": "stream",
     "text": [
      "Questo è un tweet di prova 😀😀😀 \n"
     ]
    }
   ],
   "source": [
    "ptw.remove_mentions()\n",
    "print(ptw.text)"
   ]
  },
  {
   "cell_type": "code",
   "execution_count": 6,
   "id": "b8d2035a",
   "metadata": {},
   "outputs": [
    {
     "name": "stdout",
     "output_type": "stream",
     "text": [
      "Questo è un tweet di prova xxEMOJIxx xxEMOJIxx xxEMOJIxx  \n"
     ]
    }
   ],
   "source": [
    "ptw.remove_emojis(placeholder=True)\n",
    "print(ptw.text)"
   ]
  },
  {
   "cell_type": "markdown",
   "id": "d51e1a25",
   "metadata": {},
   "source": [
    "The <code>correct_abbreviations()</code> function replaces common italian abbreviations (often used in on-line contexts) with the corresponding full expression. To increase accuracy, it would be better to first convert the text to lowercase using <code>to_lower()</code>"
   ]
  },
  {
   "cell_type": "code",
   "execution_count": 7,
   "id": "d9efca6b",
   "metadata": {},
   "outputs": [],
   "source": [
    "tweet = \"Nn so xk xò vbn\""
   ]
  },
  {
   "cell_type": "code",
   "execution_count": 8,
   "id": "67abfa09",
   "metadata": {},
   "outputs": [
    {
     "data": {
      "text/plain": [
       "'non so perché però va bene'"
      ]
     },
     "execution_count": 8,
     "metadata": {},
     "output_type": "execute_result"
    }
   ],
   "source": [
    "ptw = PTW(tweet)\n",
    "ptw.to_lower().correct_abbreviations()\n",
    "ptw.text"
   ]
  },
  {
   "cell_type": "markdown",
   "id": "03ef2d17",
   "metadata": {},
   "source": [
    "The function <code>remove_stopwords()</code> removes italian stopwords as in <code>nltk.corpus.stopwords</code>. However, since these are hard-coded, there is no need of having <code>nltk</code> installed. The function takes an optional parameter <code>additional_stopwords</code> that lets the user define more stopwords in a <code>list</code>"
   ]
  },
  {
   "cell_type": "code",
   "execution_count": 9,
   "id": "3b4b70a7",
   "metadata": {},
   "outputs": [],
   "source": [
    "tweet = \"Non so perché però questo tweet va bene\""
   ]
  },
  {
   "cell_type": "code",
   "execution_count": 10,
   "id": "e925581b",
   "metadata": {},
   "outputs": [
    {
     "data": {
      "text/plain": [
       "'so però tweet va bene'"
      ]
     },
     "execution_count": 10,
     "metadata": {},
     "output_type": "execute_result"
    }
   ],
   "source": [
    "ptw = PTW(tweet)\n",
    "ptw.to_lower().remove_stopwords()\n",
    "ptw.text"
   ]
  },
  {
   "cell_type": "code",
   "execution_count": 11,
   "id": "ed795507",
   "metadata": {},
   "outputs": [
    {
     "data": {
      "text/plain": [
       "'tweet bene'"
      ]
     },
     "execution_count": 11,
     "metadata": {},
     "output_type": "execute_result"
    }
   ],
   "source": [
    "stopwords = ['so', 'però', 'va']\n",
    "ptw.to_lower().remove_stopwords(additional_stopwords=stopwords)\n",
    "ptw.text"
   ]
  },
  {
   "cell_type": "markdown",
   "id": "515b9da0",
   "metadata": {},
   "source": [
    "The function <code>remove_numbers()</code> takes an optional parameter <code>keep_dates</code>  that does not remove dates in the format <i>yyyy</i> when <code>True</code>"
   ]
  },
  {
   "cell_type": "code",
   "execution_count": 12,
   "id": "42b63126",
   "metadata": {},
   "outputs": [],
   "source": [
    "tweet = \"Nel 2012 avevo 3 cani, 2 gatti e 8 porcellini d'india\"\n",
    "ptw = PTW(tweet)"
   ]
  },
  {
   "cell_type": "code",
   "execution_count": 13,
   "id": "b3737883",
   "metadata": {},
   "outputs": [
    {
     "data": {
      "text/plain": [
       "\"Nel 2012 avevo cani, gatti e porcellini d'india\""
      ]
     },
     "execution_count": 13,
     "metadata": {},
     "output_type": "execute_result"
    }
   ],
   "source": [
    "ptw.remove_numbers(keep_dates=True)\n",
    "ptw.text"
   ]
  },
  {
   "cell_type": "markdown",
   "id": "d569801e",
   "metadata": {},
   "source": [
    "In some cases, PreTwITA functions leave a blank space when removing elements from tweets. This is a safety measure to ensure that each and every word remains separated from its neighbours.  However, in case you do not want these additional spaces, you can call <code>remove_multiple_spaces()</code>"
   ]
  },
  {
   "cell_type": "code",
   "execution_count": 14,
   "id": "f26f58ad",
   "metadata": {},
   "outputs": [],
   "source": [
    "tweet = \"Ho    bisogno dei     miei  spazi\"\n",
    "ptw = PTW(tweet)"
   ]
  },
  {
   "cell_type": "code",
   "execution_count": 15,
   "id": "e10e1c04",
   "metadata": {},
   "outputs": [
    {
     "data": {
      "text/plain": [
       "'Ho bisogno dei miei spazi'"
      ]
     },
     "execution_count": 15,
     "metadata": {},
     "output_type": "execute_result"
    }
   ],
   "source": [
    "ptw.remove_multiple_spaces()\n",
    "ptw.text"
   ]
  },
  {
   "cell_type": "markdown",
   "id": "46b21cd0",
   "metadata": {},
   "source": [
    "### Building a pipeline ([to top](#top))"
   ]
  },
  {
   "cell_type": "markdown",
   "id": "26e11ed8",
   "metadata": {},
   "source": [
    "A preprocessing pipeline can be built concatenating functions as follows"
   ]
  },
  {
   "cell_type": "code",
   "execution_count": 16,
   "id": "7ec95aae",
   "metadata": {},
   "outputs": [],
   "source": [
    "tweet = \"\"\"Questo testo serve per testare le funzioni di pretwita, che sono addirittura più di 2!\n",
    "Rilancia questo tweet con un RT grz tvb 😀😀😀\n",
    "Chissà cosa ne penseranno a @Unipisa... #nlp\"\"\"\n",
    "ptw = PTW(tweet)"
   ]
  },
  {
   "cell_type": "code",
   "execution_count": 17,
   "id": "7fcabcee",
   "metadata": {},
   "outputs": [
    {
     "data": {
      "text/plain": [
       "<pretwita.pretwita.PreTwITA at 0x7f9a474e59d0>"
      ]
     },
     "execution_count": 17,
     "metadata": {},
     "output_type": "execute_result"
    }
   ],
   "source": [
    "ptw.to_lower().remove_mentions() \\\n",
    ".remove_hashtags().remove_reserved_words() \\\n",
    ".remove_stopwords().remove_multiple_spaces()"
   ]
  },
  {
   "cell_type": "code",
   "execution_count": 18,
   "id": "73a6d59c",
   "metadata": {},
   "outputs": [
    {
     "data": {
      "text/plain": [
       "'testo serve testare funzioni pretwita, addirittura 2! rilancia tweet grz tvb 😀😀😀 chissà cosa penseranno ...'"
      ]
     },
     "execution_count": 18,
     "metadata": {},
     "output_type": "execute_result"
    }
   ],
   "source": [
    "ptw.text"
   ]
  },
  {
   "cell_type": "markdown",
   "id": "ac64d54a",
   "metadata": {},
   "source": [
    "You can also call the <code>clean()</code> function to run a full cleaning pipeline"
   ]
  },
  {
   "cell_type": "code",
   "execution_count": 19,
   "id": "e67fd3f0",
   "metadata": {},
   "outputs": [],
   "source": [
    "tweet = \"\"\"Questo testo serve per testare le funzioni di pretwita, che sono addirittura più di 2!\n",
    "Rilancia questo tweet con un RT grz tvb 😀😀😀\n",
    "Chissà cosa ne penseranno a @Unipisa... #nlp\"\"\"\n",
    "ptw = PTW(tweet)"
   ]
  },
  {
   "cell_type": "code",
   "execution_count": 20,
   "id": "80c0fef3",
   "metadata": {},
   "outputs": [
    {
     "data": {
      "text/plain": [
       "'testo serve testare funzioni pretwita addirittura rilancia tweet grazie voglio bene chissà cosa penseranno'"
      ]
     },
     "execution_count": 20,
     "metadata": {},
     "output_type": "execute_result"
    }
   ],
   "source": [
    "ptw.clean().text"
   ]
  },
  {
   "cell_type": "code",
   "execution_count": null,
   "id": "e05bf0d0",
   "metadata": {},
   "outputs": [],
   "source": []
  },
  {
   "cell_type": "code",
   "execution_count": null,
   "id": "0acb0741",
   "metadata": {},
   "outputs": [],
   "source": []
  },
  {
   "cell_type": "code",
   "execution_count": null,
   "id": "e7c2eb6d",
   "metadata": {},
   "outputs": [],
   "source": []
  },
  {
   "cell_type": "code",
   "execution_count": 21,
   "id": "85ebf783",
   "metadata": {},
   "outputs": [
    {
     "data": {
      "text/plain": [
       "'https://twitter.com/matteosalvinimi/status/1423957002540228621'"
      ]
     },
     "metadata": {},
     "output_type": "display_data"
    },
    {
     "data": {
      "text/html": [
       "<blockquote class=\"twitter-tweet\"><p lang=\"it\" dir=\"ltr\">Anche in questo caldo sabato di agosto in tantissimi qui a Firenze, mercato di Campo di Marte, per i <a href=\"https://twitter.com/hashtag/referendumgiustizia?src=hash&amp;ref_src=twsrc%5Etfw\">#referendumgiustizia</a>. Grazie ai volontari della Lega impegnati ai gazebo anche questo fine settimana in tutta Italia: verso il mezzo milione di firme!<br>👉<a href=\"https://t.co/JQr12goqKB\">https://t.co/JQr12goqKB</a> <a href=\"https://t.co/J9CnKaQpo0\">pic.twitter.com/J9CnKaQpo0</a></p>&mdash; Matteo Salvini (@matteosalvinimi) <a href=\"https://twitter.com/matteosalvinimi/status/1423957002540228621?ref_src=twsrc%5Etfw\">August 7, 2021</a></blockquote>\n",
       "<script async src=\"https://platform.twitter.com/widgets.js\" charset=\"utf-8\"></script>\n"
      ],
      "text/plain": [
       "<IPython.core.display.HTML object>"
      ]
     },
     "metadata": {},
     "output_type": "display_data"
    }
   ],
   "source": [
    "from IPython.display import HTML\n",
    "import requests\n",
    "\n",
    "def show_tweet(link):\n",
    "    \"\"\"Display the contents of a tweet\"\"\"\n",
    "    url = 'https://publish.twitter.com/oembed?url=%s' % link\n",
    "    response = requests.get(url)\n",
    "    html = response.json()[\"html\"]\n",
    "    display(tweet_link)\n",
    "    display(HTML(html))\n",
    "    \n",
    "tweet_link = \"https://twitter.com/matteosalvinimi/status/1423957002540228621\"\n",
    "show_tweet(tweet_link)"
   ]
  },
  {
   "cell_type": "code",
   "execution_count": null,
   "id": "0cf44ccf",
   "metadata": {},
   "outputs": [],
   "source": []
  }
 ],
 "metadata": {
  "kernelspec": {
   "display_name": "Python 3",
   "language": "python",
   "name": "python3"
  },
  "language_info": {
   "codemirror_mode": {
    "name": "ipython",
    "version": 3
   },
   "file_extension": ".py",
   "mimetype": "text/x-python",
   "name": "python",
   "nbconvert_exporter": "python",
   "pygments_lexer": "ipython3",
   "version": "3.8.8"
  }
 },
 "nbformat": 4,
 "nbformat_minor": 5
}
